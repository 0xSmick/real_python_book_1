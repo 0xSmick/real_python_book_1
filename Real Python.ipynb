{
 "cells": [
  {
   "cell_type": "code",
   "execution_count": 1,
   "metadata": {
    "collapsed": false
   },
   "outputs": [
    {
     "ename": "SyntaxError",
     "evalue": "EOL while scanning string literal (<ipython-input-1-c527d161a352>, line 1)",
     "output_type": "error",
     "traceback": [
      "\u001b[0;36m  File \u001b[0;32m\"<ipython-input-1-c527d161a352>\"\u001b[0;36m, line \u001b[0;32m1\u001b[0m\n\u001b[0;31m    print \"Hello world\u001b[0m\n\u001b[0m                     ^\u001b[0m\n\u001b[0;31mSyntaxError\u001b[0m\u001b[0;31m:\u001b[0m EOL while scanning string literal\n"
     ]
    }
   ],
   "source": [
    "print \"Hello world"
   ]
  },
  {
   "cell_type": "code",
   "execution_count": 3,
   "metadata": {
    "collapsed": false
   },
   "outputs": [
    {
     "ename": "NameError",
     "evalue": "name 'Hello' is not defined",
     "output_type": "error",
     "traceback": [
      "\u001b[0;31m---------------------------------------------------------------------------\u001b[0m",
      "\u001b[0;31mNameError\u001b[0m                                 Traceback (most recent call last)",
      "\u001b[0;32m<ipython-input-3-d9b7f995e928>\u001b[0m in \u001b[0;36m<module>\u001b[0;34m()\u001b[0m\n\u001b[0;32m----> 1\u001b[0;31m \u001b[0;32mprint\u001b[0m \u001b[0mHello\u001b[0m\u001b[0;34m,\u001b[0m \u001b[0mWorld\u001b[0m\u001b[0;34m\u001b[0m\u001b[0m\n\u001b[0m",
      "\u001b[0;31mNameError\u001b[0m: name 'Hello' is not defined"
     ]
    }
   ],
   "source": [
    "print Hello, World"
   ]
  },
  {
   "cell_type": "code",
   "execution_count": 4,
   "metadata": {
    "collapsed": false
   },
   "outputs": [
    {
     "name": "stdout",
     "output_type": "stream",
     "text": [
      "This is a really long string that \n",
      "            preserves white space\n"
     ]
    }
   ],
   "source": [
    "print \"\"\"This is a really long string that \n",
    "            preserves white space\"\"\""
   ]
  },
  {
   "cell_type": "code",
   "execution_count": 5,
   "metadata": {
    "collapsed": false
   },
   "outputs": [
    {
     "name": "stdout",
     "output_type": "stream",
     "text": [
      "3\n"
     ]
    }
   ],
   "source": [
    "my_string = \"abc\"\n",
    "string_length = len(my_string)\n",
    "print string_length"
   ]
  },
  {
   "cell_type": "code",
   "execution_count": 9,
   "metadata": {
    "collapsed": false
   },
   "outputs": [
    {
     "name": "stdout",
     "output_type": "stream",
     "text": [
      "abracadabra\n"
     ]
    }
   ],
   "source": [
    "string1 = \"abra\"\n",
    "string2 = \"cadabra\"\n",
    "magic_string = string1 + string2\n",
    "print magic_string"
   ]
  },
  {
   "cell_type": "code",
   "execution_count": 13,
   "metadata": {
    "collapsed": false
   },
   "outputs": [
    {
     "name": "stdout",
     "output_type": "stream",
     "text": [
      "t\n"
     ]
    }
   ],
   "source": [
    "flavor = \"birthday cake\"\n",
    "print flavor[3]"
   ]
  },
  {
   "cell_type": "code",
   "execution_count": 16,
   "metadata": {
    "collapsed": false
   },
   "outputs": [
    {
     "data": {
      "text/plain": [
       "'bir'"
      ]
     },
     "execution_count": 16,
     "metadata": {},
     "output_type": "execute_result"
    }
   ],
   "source": [
    "flavor[:3]"
   ]
  },
  {
   "cell_type": "code",
   "execution_count": 18,
   "metadata": {
    "collapsed": false
   },
   "outputs": [
    {
     "data": {
      "text/plain": [
       "'CAN YOU HEAR ME YET?'"
      ]
     },
     "execution_count": 18,
     "metadata": {},
     "output_type": "execute_result"
    }
   ],
   "source": [
    "loud_voice = \"Can you hear me yet?\"\n",
    "loud_voice.upper()"
   ]
  },
  {
   "cell_type": "code",
   "execution_count": 21,
   "metadata": {
    "collapsed": false
   },
   "outputs": [
    {
     "name": "stdout",
     "output_type": "stream",
     "text": [
      "Hey, what's up? Hi\n",
      "You said:  Hi\n"
     ]
    }
   ],
   "source": [
    "user_input = raw_input(\"Hey, what's up? \")\n",
    "print \"You said: \", user_input"
   ]
  },
  {
   "cell_type": "code",
   "execution_count": 22,
   "metadata": {
    "collapsed": false
   },
   "outputs": [
    {
     "name": "stdout",
     "output_type": "stream",
     "text": [
      "What should I shout? Hello\n",
      "Well if you insist... HELLO\n"
     ]
    }
   ],
   "source": [
    "response = raw_input(\"What should I shout? \")\n",
    "response = response.upper()\n",
    "print \"Well if you insist...\", response"
   ]
  },
  {
   "cell_type": "code",
   "execution_count": 24,
   "metadata": {
    "collapsed": false
   },
   "outputs": [
    {
     "name": "stdout",
     "output_type": "stream",
     "text": [
      "Tell me your password:hi how are you\n",
      "H\n"
     ]
    }
   ],
   "source": [
    "response = raw_input(\"Tell me your password:\")\n",
    "response = response[0].upper()\n",
    "print response"
   ]
  },
  {
   "cell_type": "code",
   "execution_count": 25,
   "metadata": {
    "collapsed": false
   },
   "outputs": [
    {
     "name": "stdout",
     "output_type": "stream",
     "text": [
      "22\n"
     ]
    }
   ],
   "source": [
    "my_number = \"2\"\n",
    "print my_number + my_number"
   ]
  },
  {
   "cell_type": "code",
   "execution_count": 27,
   "metadata": {
    "collapsed": false
   },
   "outputs": [
    {
     "data": {
      "text/plain": [
       "'222'"
      ]
     },
     "execution_count": 27,
     "metadata": {},
     "output_type": "execute_result"
    }
   ],
   "source": [
    "my_number * 3"
   ]
  },
  {
   "cell_type": "code",
   "execution_count": 28,
   "metadata": {
    "collapsed": false
   },
   "outputs": [
    {
     "name": "stdout",
     "output_type": "stream",
     "text": [
      "6\n"
     ]
    }
   ],
   "source": [
    "print int(my_number) * 3"
   ]
  },
  {
   "cell_type": "code",
   "execution_count": 31,
   "metadata": {
    "collapsed": false
   },
   "outputs": [
    {
     "data": {
      "text/plain": [
       "'11'"
      ]
     },
     "execution_count": 31,
     "metadata": {},
     "output_type": "execute_result"
    }
   ],
   "source": [
    "x = \"1\"\n",
    "y = 1\n",
    "x + str(y)"
   ]
  },
  {
   "cell_type": "code",
   "execution_count": 32,
   "metadata": {
    "collapsed": false
   },
   "outputs": [
    {
     "name": "stdout",
     "output_type": "stream",
     "text": [
      "0.2 is the weight of the newt\n"
     ]
    }
   ],
   "source": [
    "weight = 0.2\n",
    "animal = \"newt\"\n",
    "print weight, \"is the weight of the\", animal"
   ]
  },
  {
   "cell_type": "code",
   "execution_count": 38,
   "metadata": {
    "collapsed": false
   },
   "outputs": [
    {
     "name": "stdout",
     "output_type": "stream",
     "text": [
      "0.2 is the weight of the newt\n"
     ]
    }
   ],
   "source": [
    "weight = 0.2\n",
    "animal = \"newt\"\n",
    "print \"{weight} is the weight of the {animal}\".format(weight=0.2, animal=\"newt\")"
   ]
  },
  {
   "cell_type": "code",
   "execution_count": 41,
   "metadata": {
    "collapsed": false
   },
   "outputs": [
    {
     "name": "stdout",
     "output_type": "stream",
     "text": [
      "What are you looking for?surprise\n",
      "4\n"
     ]
    }
   ],
   "source": [
    "phrase = \"the surprise is in her somewhere\"\n",
    "response = raw_input(\"What are you looking for?\")\n",
    "response = phrase.find(response)\n",
    "print response"
   ]
  },
  {
   "cell_type": "code",
   "execution_count": 42,
   "metadata": {
    "collapsed": false
   },
   "outputs": [
    {
     "name": "stdout",
     "output_type": "stream",
     "text": [
      "i'm telling you lies; he spoke nothing but lies!\n"
     ]
    }
   ],
   "source": [
    "my_story = \"i'm telling you the truth; he spoke nothing but the truth!\"\n",
    "print my_story.replace(\"the truth\", \"lies\")"
   ]
  },
  {
   "cell_type": "code",
   "execution_count": 45,
   "metadata": {
    "collapsed": false
   },
   "outputs": [
    {
     "name": "stdout",
     "output_type": "stream",
     "text": [
      "enter texti like to eat eggs and spam\n",
      "i 1ik3 70 347 3gg5 4nd 5p4m\n"
     ]
    }
   ],
   "source": [
    "#program page 46\n",
    "response = raw_input(\"enter text\")\n",
    "response = response.replace(\"a\",\"4\")\n",
    "response = response.replace(\"b\",\"8\")\n",
    "response = response.replace(\"e\",\"3\")\n",
    "response = response.replace(\"l\",\"1\")\n",
    "response = response.replace(\"o\",\"0\")\n",
    "response = response.replace(\"s\",\"5\")\n",
    "response = response.replace(\"t\",\"7\")\n",
    "print response"
   ]
  },
  {
   "cell_type": "code",
   "execution_count": 16,
   "metadata": {
    "collapsed": false
   },
   "outputs": [
    {
     "name": "stdout",
     "output_type": "stream",
     "text": [
      "Enter a base:1.2\n",
      "Enter an Exponent:3\n",
      "1.2 to the power of 3 = 1.728\n"
     ]
    }
   ],
   "source": [
    "#program page 50\n",
    "base = raw_input(\"Enter a base:\")\n",
    "base = float(base)\n",
    "exponent = raw_input(\"Enter an Exponent:\")\n",
    "exponent = int(exponent)\n",
    "print \"{} to the power of {} =\".format(base, exponent), base ** exponent"
   ]
  },
  {
   "cell_type": "code",
   "execution_count": null,
   "metadata": {
    "collapsed": false
   },
   "outputs": [],
   "source": [
    "base = raw_input(\"Enter a base:\")\n",
    "base = float(base)\n",
    "exponent = raw_input(\"Enter an exponent:\")\n",
    "exponent = int(exponent)\n",
    "answer = \"{} to the power of {}=\".format(base, exponent),base**exponent"
   ]
  },
  {
   "cell_type": "code",
   "execution_count": 17,
   "metadata": {
    "collapsed": false
   },
   "outputs": [],
   "source": [
    "def return_difference(n1, n2):\n",
    "    \"\"\"Returns the difference between two numbers. \n",
    "        Subtracts n2 from n1\"\"\"\n",
    "    return n1 - n2\n"
   ]
  },
  {
   "cell_type": "code",
   "execution_count": 18,
   "metadata": {
    "collapsed": false
   },
   "outputs": [
    {
     "name": "stdout",
     "output_type": "stream",
     "text": [
      "Help on function return_difference in module __main__:\n",
      "\n",
      "return_difference(n1, n2)\n",
      "    Returns the difference between two numbers. \n",
      "    Subtracts n2 from n1\n",
      "\n"
     ]
    }
   ],
   "source": [
    "help(return_difference)"
   ]
  },
  {
   "cell_type": "code",
   "execution_count": 19,
   "metadata": {
    "collapsed": true
   },
   "outputs": [],
   "source": [
    "def cube(x):\n",
    "    num = x\n",
    "    return num ** 3\n"
   ]
  },
  {
   "cell_type": "code",
   "execution_count": 22,
   "metadata": {
    "collapsed": false
   },
   "outputs": [],
   "source": [
    "def multiply(n1,n2):\n",
    "    return n1 * n2\n"
   ]
  },
  {
   "cell_type": "code",
   "execution_count": 24,
   "metadata": {
    "collapsed": false
   },
   "outputs": [
    {
     "data": {
      "text/plain": [
       "10"
      ]
     },
     "execution_count": 24,
     "metadata": {},
     "output_type": "execute_result"
    }
   ],
   "source": [
    "multiply(2,3)\n",
    "x = multiply(2,5)\n",
    "int(x)"
   ]
  },
  {
   "cell_type": "code",
   "execution_count": 32,
   "metadata": {
    "collapsed": true
   },
   "outputs": [],
   "source": [
    "#temperature.py page 56\n",
    "from decimal import *\n",
    "def c_to_f(c):\n",
    "    x = c * 9/5 + 32\n",
    "    return float(x)\n",
    "\n",
    "def f_to_c(f):\n",
    "    x = (f-32) * 5/9\n",
    "    return float(x)\n"
   ]
  },
  {
   "cell_type": "code",
   "execution_count": 33,
   "metadata": {
    "collapsed": false
   },
   "outputs": [
    {
     "data": {
      "text/plain": [
       "22.0"
      ]
     },
     "execution_count": 33,
     "metadata": {},
     "output_type": "execute_result"
    }
   ],
   "source": [
    "f_to_c(72)"
   ]
  },
  {
   "cell_type": "code",
   "execution_count": 35,
   "metadata": {
    "collapsed": false
   },
   "outputs": [
    {
     "name": "stdout",
     "output_type": "stream",
     "text": [
      "n = 1\n",
      "n = 2\n",
      "n = 3\n",
      "n = 4\n",
      "Loop finished \n"
     ]
    }
   ],
   "source": [
    "n = 1\n",
    "while (n < 5):\n",
    "    print \"n =\", n\n",
    "    n = n + 1\n",
    "print \"Loop finished \""
   ]
  },
  {
   "cell_type": "code",
   "execution_count": 36,
   "metadata": {
    "collapsed": false
   },
   "outputs": [
    {
     "name": "stdout",
     "output_type": "stream",
     "text": [
      "n = 1\n",
      "n = 2\n",
      "n = 3\n",
      "n = 4\n",
      "loop finished\n"
     ]
    }
   ],
   "source": [
    "for n in range(1,5):\n",
    "    print \"n =\", n\n",
    "print \"loop finished\""
   ]
  },
  {
   "cell_type": "code",
   "execution_count": 38,
   "metadata": {
    "collapsed": false
   },
   "outputs": [
    {
     "name": "stdout",
     "output_type": "stream",
     "text": [
      "n = 1 and j = a\n",
      "n = 1 and j = b\n",
      "n = 1 and j = c\n",
      "n = 2 and j = a\n",
      "n = 2 and j = b\n",
      "n = 2 and j = c\n",
      "n = 3 and j = a\n",
      "n = 3 and j = b\n",
      "n = 3 and j = c\n"
     ]
    }
   ],
   "source": [
    "for n in range(1,4):\n",
    "    for j in [\"a\",\"b\",\"c\"]:\n",
    "        print \"n =\", n, \"and j =\", j"
   ]
  },
  {
   "cell_type": "code",
   "execution_count": 42,
   "metadata": {
    "collapsed": false
   },
   "outputs": [
    {
     "name": "stdout",
     "output_type": "stream",
     "text": [
      " 2\n",
      "3\n",
      "4\n",
      "5\n",
      "6\n",
      "7\n",
      "8\n",
      "9\n",
      "10\n"
     ]
    }
   ],
   "source": [
    "for x in range(2,11):\n",
    "    print x"
   ]
  },
  {
   "cell_type": "code",
   "execution_count": 44,
   "metadata": {
    "collapsed": false
   },
   "outputs": [
    {
     "name": "stdout",
     "output_type": "stream",
     "text": [
      "2\n",
      "3\n",
      "4\n",
      "5\n",
      "6\n",
      "7\n",
      "8\n",
      "9\n",
      "10\n"
     ]
    }
   ],
   "source": [
    "x = 2\n",
    "while (x <= 10):\n",
    "    print x\n",
    "    x = x + 1"
   ]
  },
  {
   "cell_type": "code",
   "execution_count": 50,
   "metadata": {
    "collapsed": false
   },
   "outputs": [],
   "source": [
    "def doubles(x):\n",
    "    n = 1\n",
    "    while (n <= 3):\n",
    "        x = x * 2\n",
    "        n = n + 1\n",
    "        print x\n",
    "        "
   ]
  },
  {
   "cell_type": "code",
   "execution_count": 52,
   "metadata": {
    "collapsed": false
   },
   "outputs": [
    {
     "name": "stdout",
     "output_type": "stream",
     "text": [
      "6\n",
      "12\n",
      "24\n"
     ]
    }
   ],
   "source": [
    "doubles(3)"
   ]
  },
  {
   "cell_type": "code",
   "execution_count": 91,
   "metadata": {
    "collapsed": false
   },
   "outputs": [],
   "source": [
    "#page 60 invest.py\n",
    "def invest(amount, rate, time):\n",
    "    print \"principal amount: ${}\".format(amount)\n",
    "    print \"annual rate of return:{}\".format(rate)\n",
    "    for current_year in range(1,time+1):\n",
    "        amount = amount * (1 + rate)\n",
    "        print \"year {}: ${}\".format(current_year, amount)\n"
   ]
  },
  {
   "cell_type": "code",
   "execution_count": 92,
   "metadata": {
    "collapsed": false
   },
   "outputs": [
    {
     "name": "stdout",
     "output_type": "stream",
     "text": [
      "principal amount: $100\n",
      "annual rate of return:0.05\n",
      "year 1: $105.0\n",
      "year 2: $110.25\n",
      "year 3: $115.7625\n",
      "year 4: $121.550625\n",
      "year 5: $127.62815625\n",
      "year 6: $134.009564063\n",
      "year 7: $140.710042266\n",
      "year 8: $147.745544379\n"
     ]
    }
   ],
   "source": [
    "invest(100, .05, 8)"
   ]
  },
  {
   "cell_type": "code",
   "execution_count": 80,
   "metadata": {
    "collapsed": false
   },
   "outputs": [
    {
     "name": "stdout",
     "output_type": "stream",
     "text": [
      "105.0\n"
     ]
    }
   ],
   "source": [
    "y = 100\n",
    "x = (y * .05) + y\n",
    "print x"
   ]
  },
  {
   "cell_type": "code",
   "execution_count": 1,
   "metadata": {
    "collapsed": false
   },
   "outputs": [
    {
     "data": {
      "text/plain": [
       "2"
      ]
     },
     "execution_count": 1,
     "metadata": {},
     "output_type": "execute_result"
    }
   ],
   "source": [
    "1+1"
   ]
  },
  {
   "cell_type": "code",
   "execution_count": 16,
   "metadata": {
    "collapsed": false
   },
   "outputs": [
    {
     "data": {
      "text/plain": [
       "'_S_h_e_l_d_o_n_'"
      ]
     },
     "execution_count": 16,
     "metadata": {},
     "output_type": "execute_result"
    }
   ],
   "source": [
    "def add_underscores(word):\n",
    "    new_word = \"_\"\n",
    "    for i in range(0, len(word)):\n",
    "        new_word = new_word + word[i] + \"_\"\n",
    "    return new_word\n",
    "add_underscores(\"Sheldon\")"
   ]
  },
  {
   "cell_type": "code",
   "execution_count": 17,
   "metadata": {
    "collapsed": false
   },
   "outputs": [
    {
     "data": {
      "text/plain": [
       "'_S_h_e_l_d_o_n_'"
      ]
     },
     "execution_count": 17,
     "metadata": {},
     "output_type": "execute_result"
    }
   ],
   "source": [
    "add_underscores(\"Sheldon\")\n"
   ]
  },
  {
   "cell_type": "code",
   "execution_count": 20,
   "metadata": {
    "collapsed": false
   },
   "outputs": [
    {
     "data": {
      "text/plain": [
       "True"
      ]
     },
     "execution_count": 20,
     "metadata": {},
     "output_type": "execute_result"
    }
   ],
   "source": [
    "\"good\" != \"Good\""
   ]
  },
  {
   "cell_type": "code",
   "execution_count": 24,
   "metadata": {
    "collapsed": false
   },
   "outputs": [],
   "source": [
    "def what_len():\n",
    "    word = raw_input(\"enter word\")\n",
    "    if len(word) < 5:\n",
    "        print \"less than 5\"\n",
    "    elif len(word) > 5:\n",
    "        print \"greater than 5\"\n",
    "    else: \n",
    "        print \"equal to 5\""
   ]
  },
  {
   "cell_type": "code",
   "execution_count": 27,
   "metadata": {
    "collapsed": false
   },
   "outputs": [
    {
     "name": "stdout",
     "output_type": "stream",
     "text": [
      "enter wordtest\n",
      "less than 5\n"
     ]
    }
   ],
   "source": [
    "what_len()"
   ]
  },
  {
   "cell_type": "code",
   "execution_count": 32,
   "metadata": {
    "collapsed": false
   },
   "outputs": [
    {
     "name": "stdout",
     "output_type": "stream",
     "text": [
      "Enter a positive integer10\n",
      "1 is a divisor of 10\n",
      "2 is a divisor of 10\n",
      "5 is a divisor of 10\n",
      "10 is a divisor of 10\n"
     ]
    }
   ],
   "source": [
    "#factors.py script\n",
    "n = raw_input(\"Enter a positive integer\")\n",
    "n = int(n)\n",
    "for x in range(1,n+1):\n",
    "    if n % x == 0:\n",
    "        print \"{} is a divisor of {}\".format(x,n)"
   ]
  },
  {
   "cell_type": "code",
   "execution_count": 34,
   "metadata": {
    "collapsed": false
   },
   "outputs": [
    {
     "name": "stdout",
     "output_type": "stream",
     "text": [
      "0\n",
      "1\n",
      "3\n",
      "Finished with i =  3\n"
     ]
    }
   ],
   "source": [
    "for i in range(0,4):\n",
    "    if i == 2:\n",
    "        continue\n",
    "    print i\n",
    "    \n",
    "print \"Finished with i = \", str(i)"
   ]
  },
  {
   "cell_type": "code",
   "execution_count": 35,
   "metadata": {
    "collapsed": false
   },
   "outputs": [
    {
     "name": "stdout",
     "output_type": "stream",
     "text": [
      "There was no 'X' in the phrase\n"
     ]
    }
   ],
   "source": [
    "phrase = \"it marks the spot\"\n",
    "\n",
    "for letter in phrase:\n",
    "    if letter == \"X\":\n",
    "        break\n",
    "else:\n",
    "    print \"There was no 'X' in the phrase\""
   ]
  },
  {
   "cell_type": "code",
   "execution_count": 47,
   "metadata": {
    "collapsed": false
   },
   "outputs": [
    {
     "name": "stdout",
     "output_type": "stream",
     "text": [
      "Enter text: test\n",
      "Enter text: test\n",
      "Enter text: x\n",
      "Enter text: q\n",
      "You have successfully quit the application\n"
     ]
    }
   ],
   "source": [
    "\n",
    "while True:\n",
    "    x = raw_input(\"Enter text: \")\n",
    "    if x == \"q\" or x == \"Q\":\n",
    "        print 'You have successfully quit the application'\n",
    "        break\n",
    "else: \n",
    "    x += 1"
   ]
  },
  {
   "cell_type": "code",
   "execution_count": 46,
   "metadata": {
    "collapsed": false
   },
   "outputs": [
    {
     "name": "stdout",
     "output_type": "stream",
     "text": [
      "1\n",
      "2\n",
      "4\n",
      "5\n",
      "7\n",
      "8\n",
      "10\n",
      "11\n",
      "13\n",
      "14\n",
      "16\n",
      "17\n",
      "19\n",
      "20\n",
      "22\n",
      "23\n",
      "25\n",
      "26\n",
      "28\n",
      "29\n",
      "31\n",
      "32\n",
      "34\n",
      "35\n",
      "37\n",
      "38\n",
      "40\n",
      "41\n",
      "43\n",
      "44\n",
      "46\n",
      "47\n",
      "49\n",
      "50\n"
     ]
    }
   ],
   "source": [
    "for i in range(1,51):\n",
    "    if i % 3 == 0:\n",
    "        continue\n",
    "    else:\n",
    "        print i"
   ]
  },
  {
   "cell_type": "code",
   "execution_count": 49,
   "metadata": {
    "collapsed": false
   },
   "outputs": [
    {
     "name": "stdout",
     "output_type": "stream",
     "text": [
      "Enter an integer: 1\n"
     ]
    }
   ],
   "source": [
    "try:\n",
    "    number = int(raw_input(\"Enter an integer: \"))\n",
    "except ValueError:\n",
    "    print \"That was not an integer\""
   ]
  },
  {
   "cell_type": "code",
   "execution_count": 50,
   "metadata": {
    "collapsed": true
   },
   "outputs": [],
   "source": [
    "from __future__ import division"
   ]
  },
  {
   "cell_type": "code",
   "execution_count": 56,
   "metadata": {
    "collapsed": true
   },
   "outputs": [],
   "source": [
    "def divide(num1, num2):\n",
    "    try:\n",
    "        print num1 / num2\n",
    "    except (TypeError, ZeroDivisionError):\n",
    "        print \"encountered a problem\""
   ]
  },
  {
   "cell_type": "code",
   "execution_count": 58,
   "metadata": {
    "collapsed": false
   },
   "outputs": [
    {
     "name": "stdout",
     "output_type": "stream",
     "text": [
      "15\n"
     ]
    }
   ],
   "source": [
    "from random import randint\n",
    "print randint(0,20)"
   ]
  },
  {
   "cell_type": "code",
   "execution_count": 63,
   "metadata": {
    "collapsed": false
   },
   "outputs": [
    {
     "name": "stdout",
     "output_type": "stream",
     "text": [
      "heads / tails = 0.977039570103\n"
     ]
    }
   ],
   "source": [
    "from __future__ import division\n",
    "from random import randint\n",
    "\n",
    "heads = 0\n",
    "tails = 0\n",
    "\n",
    "for trials in range(0, 10000):\n",
    "    while randint(0,1) == 0:\n",
    "        tails += 1\n",
    "    heads += 1\n",
    "print \"heads / tails =\", heads/tails"
   ]
  },
  {
   "cell_type": "code",
   "execution_count": 89,
   "metadata": {
    "collapsed": false
   },
   "outputs": [
    {
     "name": "stdout",
     "output_type": "stream",
     "text": [
      "2.9946\n"
     ]
    }
   ],
   "source": [
    "z = []\n",
    "for trials in range(0, 10000):\n",
    "    trials += 1\n",
    "    x = randint(0,6)\n",
    "    z.append(x)\n",
    "    \n",
    "print sum(z) / trials"
   ]
  },
  {
   "cell_type": "code",
   "execution_count": 7,
   "metadata": {
    "collapsed": false
   },
   "outputs": [
    {
     "name": "stdout",
     "output_type": "stream",
     "text": [
      "50.3124726843% chance of winning region 1\n",
      "50.1195774632% chance of winning region 2\n",
      "50.2120166244% chance of winning region 3\n"
     ]
    }
   ],
   "source": [
    "#election.py page 89\n",
    "import random\n",
    "import numpy \n",
    "z_1 = []\n",
    "z_2 = []\n",
    "z_3 = []\n",
    "for elections in range(0,10000):\n",
    "    elections += 1\n",
    "    region_1 = random.random()\n",
    "    z_1.append(region_1)\n",
    "    region_2 = random.random()\n",
    "    z_2.append(region_2)\n",
    "    region_3 = random.random()\n",
    "    z_3.append(region_3)\n",
    "\n",
    "print \"{}% chance of winning region 1\".format((numpy.mean(z_1)*100))\n",
    "print \"{}% chance of winning region 2\".format((numpy.mean(z_2)*100))\n",
    "print \"{}% chance of winning region 3\".format((numpy.mean(z_3)*100))"
   ]
  },
  {
   "cell_type": "code",
   "execution_count": 11,
   "metadata": {
    "collapsed": false
   },
   "outputs": [
    {
     "name": "stdout",
     "output_type": "stream",
     "text": [
      "Probability that A wins: 0.6342\n",
      "Probability that B wins: 0.3658\n"
     ]
    }
   ],
   "source": [
    "import random\n",
    "total_a_wins = 0\n",
    "total_b_wins = 0\n",
    "trials = 10000\n",
    "for elections in range(0, trials):\n",
    "    a_wins = 0\n",
    "    b_wins = 0\n",
    "    if random.random() < .87:\n",
    "        a_wins += 1\n",
    "    else:\n",
    "        b_wins += 1\n",
    "    if random.random() < .65:\n",
    "        a_wins += 1\n",
    "    else:\n",
    "        b_wins += 1\n",
    "    if random.random() < .17:\n",
    "        a_wins += 1\n",
    "    else:\n",
    "        b_wins += 1\n",
    "    if a_wins > b_wins:\n",
    "        total_a_wins += 1\n",
    "    else:\n",
    "        total_b_wins += 1\n",
    "print \"Probability that A wins:\",total_a_wins/trials\n",
    "print \"Probability that B wins:\",total_b_wins/trials"
   ]
  },
  {
   "cell_type": "code",
   "execution_count": 18,
   "metadata": {
    "collapsed": false
   },
   "outputs": [
    {
     "data": {
      "text/plain": [
       "0"
      ]
     },
     "execution_count": 18,
     "metadata": {},
     "output_type": "execute_result"
    }
   ],
   "source": [
    "from random import randint\n",
    "randint(0,1)"
   ]
  },
  {
   "cell_type": "code",
   "execution_count": 19,
   "metadata": {
    "collapsed": true
   },
   "outputs": [],
   "source": [
    "#do later page 90\n",
    "trials = 10000"
   ]
  },
  {
   "cell_type": "code",
   "execution_count": 20,
   "metadata": {
    "collapsed": false
   },
   "outputs": [
    {
     "name": "stdout",
     "output_type": "stream",
     "text": [
      "['lion', 'tiger']\n"
     ]
    }
   ],
   "source": [
    "animals = []\n",
    "animals.append(\"lion\")\n",
    "animals.append(\"tiger\")\n",
    "print animals"
   ]
  },
  {
   "cell_type": "code",
   "execution_count": 21,
   "metadata": {
    "collapsed": false
   },
   "outputs": [
    {
     "name": "stdout",
     "output_type": "stream",
     "text": [
      "['tiger']\n"
     ]
    }
   ],
   "source": [
    "animals.remove(\"lion\")\n",
    "print animals"
   ]
  },
  {
   "cell_type": "code",
   "execution_count": 22,
   "metadata": {
    "collapsed": false
   },
   "outputs": [
    {
     "name": "stdout",
     "output_type": "stream",
     "text": [
      "['Lion', 'tigers', 'oh my']\n"
     ]
    }
   ],
   "source": [
    "animals = []\n",
    "animals.extend([\"Lion\",\"tigers\",\"oh my\"])\n",
    "print animals"
   ]
  },
  {
   "cell_type": "code",
   "execution_count": 23,
   "metadata": {
    "collapsed": false
   },
   "outputs": [
    {
     "name": "stdout",
     "output_type": "stream",
     "text": [
      "1\n"
     ]
    }
   ],
   "source": [
    "colors = [\"red\",\"green\",\"blue\",\"black\"]\n",
    "print colors.index(\"green\")"
   ]
  },
  {
   "cell_type": "code",
   "execution_count": 36,
   "metadata": {
    "collapsed": false
   },
   "outputs": [
    {
     "name": "stdout",
     "output_type": "stream",
     "text": [
      "['cookies', 'ice cream']\n"
     ]
    },
    {
     "data": {
      "text/plain": [
       "['ice cream', 'broccoli']"
      ]
     },
     "execution_count": 36,
     "metadata": {},
     "output_type": "execute_result"
    }
   ],
   "source": [
    "desserts = [\"ice cream\", \"cookies\"]\n",
    "desserts.sort()\n",
    "print desserts\n",
    "desserts.index(\"ice cream\")\n",
    "food = desserts[:]\n",
    "food.extend([\"broccoli\",\"turnips\"])\n",
    "food.remove(\"cookies\")\n",
    "food[0:2]"
   ]
  },
  {
   "cell_type": "code",
   "execution_count": 48,
   "metadata": {
    "collapsed": false
   },
   "outputs": [
    {
     "data": {
      "text/plain": [
       "['cookies', 'cookies', 'cookies']"
      ]
     },
     "execution_count": 48,
     "metadata": {},
     "output_type": "execute_result"
    }
   ],
   "source": [
    "x = \"cookies cookies cookies\"\n",
    "breakfast = x.split()\n",
    "breakfast"
   ]
  },
  {
   "cell_type": "code",
   "execution_count": 43,
   "metadata": {
    "collapsed": true
   },
   "outputs": [],
   "source": [
    "def one_to_twenty(list):\n",
    "    for i in list:\n",
    "        if i <=20 and i >=1:\n",
    "            print i"
   ]
  },
  {
   "cell_type": "code",
   "execution_count": 44,
   "metadata": {
    "collapsed": false
   },
   "outputs": [
    {
     "name": "stdout",
     "output_type": "stream",
     "text": [
      "2\n",
      "4\n",
      "6\n",
      "8\n",
      "16\n"
     ]
    }
   ],
   "source": [
    "one_to_twenty([2,4,6,8,16,32,64])"
   ]
  },
  {
   "cell_type": "code",
   "execution_count": 49,
   "metadata": {
    "collapsed": true
   },
   "outputs": [],
   "source": [
    "#enrollment stats\n",
    "universities = [\n",
    "['California Institute of Technology', 2175, 37704], ['Harvard', 19627, 39849],\n",
    "['Massachusetts Institute of Technology', 10566, 40732], ['Princeton', 7802, 37000],\n",
    "['Rice', 5879, 35551],\n",
    "['Stanford', 19535, 40569],\n",
    "['Yale', 11701, 40500]\n",
    "]"
   ]
  },
  {
   "cell_type": "code",
   "execution_count": 86,
   "metadata": {
    "collapsed": false
   },
   "outputs": [],
   "source": [
    "students = []\n",
    "tuition = []\n",
    "for i in universities:\n",
    "    x = i[1]\n",
    "    y = i[2]\n",
    "    students.append(x)\n",
    "    tuition.append(y)"
   ]
  },
  {
   "cell_type": "code",
   "execution_count": 114,
   "metadata": {
    "collapsed": false
   },
   "outputs": [],
   "source": [
    "def meanList(list):\n",
    "    count = 0\n",
    "    theSum = 0\n",
    "    for i in list:\n",
    "        theSum = theSum + i\n",
    "        count += 1\n",
    "    return theSum / count"
   ]
  },
  {
   "cell_type": "code",
   "execution_count": 115,
   "metadata": {
    "collapsed": false
   },
   "outputs": [],
   "source": [
    "def medianList(list):\n",
    "    length_list = int(len(list))\n",
    "    value = int(length_list/2)\n",
    "    return list[value]"
   ]
  },
  {
   "cell_type": "code",
   "execution_count": 116,
   "metadata": {
    "collapsed": false
   },
   "outputs": [],
   "source": [
    "def sumList(list):\n",
    "    theSum = 0\n",
    "    for i in list:\n",
    "        theSum = theSum + i\n",
    "    return theSum"
   ]
  },
  {
   "cell_type": "code",
   "execution_count": 118,
   "metadata": {
    "collapsed": true
   },
   "outputs": [],
   "source": [
    "def enrollment_stats(list):\n",
    "    students = []\n",
    "    tuition = []\n",
    "    for i in list:\n",
    "        x = i[1]\n",
    "        y = i[2]\n",
    "        students.append(x)\n",
    "        tuition.append(y)\n",
    "    total_students = sumList(students)\n",
    "    total_tuition = sumList(tuition)\n",
    "    student_mean = meanList(students)\n",
    "    tuition_mean = meanList(tuition)\n",
    "    student_median = medianList(students)\n",
    "    tuition_median = medianList(tuition)\n",
    "    print \"Total students:\",total_students\n",
    "    print \"Total tuition: $\",total_tuition\n",
    "    print \"Student mean:\",student_mean\n",
    "    print \"Student median:\",student_median\n",
    "    print \"Tution mean: $\",tuition_mean\n",
    "    print \"Tuition median: $\",tuition_median"
   ]
  },
  {
   "cell_type": "code",
   "execution_count": 119,
   "metadata": {
    "collapsed": false
   },
   "outputs": [
    {
     "name": "stdout",
     "output_type": "stream",
     "text": [
      "Total students: 77285\n",
      "Total tuition: $ 271905\n",
      "Student mean: 11040.7142857\n",
      "Student median: 7802\n",
      "Tution mean: $ 38843.5714286\n",
      "Tuition median: $ 37000\n"
     ]
    }
   ],
   "source": [
    "enrollment_stats(universities)"
   ]
  },
  {
   "cell_type": "code",
   "execution_count": 136,
   "metadata": {
    "collapsed": false
   },
   "outputs": [],
   "source": [
    "noun = ['fossil', 'horse', 'aardvark', 'judge', 'chef', 'mango', 'extrovert', 'gorilla']\n",
    "verb = ['kicks','jingles','bounces','slurps','meows','explodes','curdles']\n",
    "adjective = ['furry','balding','incredulous','fragrant','exuberant','glistening']\n",
    "preposition = ['against','after','into','beneath','upon','for', 'in','like','over','within']\n",
    "adverb = ['curiously','extravagantly','tantalizingly','furiously','sensuously']"
   ]
  },
  {
   "cell_type": "code",
   "execution_count": 149,
   "metadata": {
    "collapsed": false
   },
   "outputs": [],
   "source": [
    "\n",
    "def make_poem():\n",
    "    noun_1 = random.choice(noun)\n",
    "    noun_2 = random.choice(noun)\n",
    "    noun_3 = random.choice(noun)\n",
    "    while (noun_2 == noun_1):\n",
    "        noun_2 = random.choice(noun)\n",
    "    while (noun_3 == noun_2 or noun_3 == noun_1):\n",
    "        noun_3 = random.choice(noun)\n",
    "    verb_1 = random.choice(verb)\n",
    "    verb_2 = random.choice(verb)\n",
    "    verb_3 = random.choice(verb)\n",
    "    while (verb_2 == verb_1):\n",
    "        verb_2 = random.choice(verb)\n",
    "    while (verb_3 == verb_2 or verb_3 == verb_1):\n",
    "        verb_3 = random.choice(verb)\n",
    "    adj_1 = random.choice(adjective)\n",
    "    adj_2 = random.choice(adjective)\n",
    "    adj_3 = random.choice(adjective)\n",
    "    while (adj_2 == adj_1):\n",
    "        adj_2 = random.choice(adjective)\n",
    "    while (adj_3 == adj_2 or adj_3 == adj_1):\n",
    "        adj_3 = random.choice(adjective)\n",
    "    adverb_1 = random.choice(adverb)\n",
    "    prep_1 = random.choice(preposition)\n",
    "    prep_2 = random.choice(preposition)\n",
    "    while (prep_2 == prep_1):\n",
    "        prep_2 = random.choice(preposition)\n",
    "    string = \"A {} {}\".format(adj_1, noun_1)\n",
    "    string2 = \"A {} {} {} {} the {} {}\".format(adj_1, noun_1, verb_1, prep_1, adj_2, noun_2)\n",
    "    string3 = \"{}, the {} {}\".format(adverb_1, noun_1, verb_2)\n",
    "    string4 = \"the {} {} {} a {} {}\".format(noun_2, verb_3, prep_2, adj_3, noun_3)\n",
    "    return string, string2, string3, string4"
   ]
  },
  {
   "cell_type": "code",
   "execution_count": 156,
   "metadata": {
    "collapsed": false
   },
   "outputs": [
    {
     "data": {
      "text/plain": [
       "('A glistening gorilla',\n",
       " 'A glistening gorilla bounces into the furry judge',\n",
       " 'extravagantly, the gorilla kicks',\n",
       " 'the judge meows in a exuberant fossil')"
      ]
     },
     "execution_count": 156,
     "metadata": {},
     "output_type": "execute_result"
    }
   ],
   "source": [
    "make_poem()"
   ]
  },
  {
   "cell_type": "code",
   "execution_count": 163,
   "metadata": {
    "collapsed": false
   },
   "outputs": [
    {
     "data": {
      "text/plain": [
       "tuple"
      ]
     },
     "execution_count": 163,
     "metadata": {},
     "output_type": "execute_result"
    }
   ],
   "source": [
    "def adder_subtractor(num1, num2):\n",
    "    add = num1 + num2\n",
    "    subtract = num1 - num2\n",
    "    return add, subtract\n",
    "\n",
    "adder_subtractor(3,2)\n",
    "test = adder_subtractor(3,2)\n",
    "type(test)"
   ]
  },
  {
   "cell_type": "code",
   "execution_count": 168,
   "metadata": {
    "collapsed": false
   },
   "outputs": [
    {
     "name": "stdout",
     "output_type": "stream",
     "text": [
      "first second third\n"
     ]
    }
   ],
   "source": [
    "cardinal_nums = \"first\",\"second\",\"third\"\n",
    "cardinal_nums[1]\n",
    "pos1,pos2,pos3 = cardinal_nums\n",
    "print pos1, pos2, pos3"
   ]
  },
  {
   "cell_type": "code",
   "execution_count": 169,
   "metadata": {
    "collapsed": false
   },
   "outputs": [
    {
     "data": {
      "text/plain": [
       "{'Destiny': '900-783-3369', 'Jenny': '867-5309', 'Mike Jones': '281-330-8004'}"
      ]
     },
     "execution_count": 169,
     "metadata": {},
     "output_type": "execute_result"
    }
   ],
   "source": [
    "phonebook = {\"Jenny\": \"867-5309\", \"Mike Jones\": \"281-330-8004\", \"Destiny\": \"900-783-3369\"}\n",
    "phonebook"
   ]
  },
  {
   "cell_type": "code",
   "execution_count": 179,
   "metadata": {
    "collapsed": false
   },
   "outputs": [
    {
     "name": "stdout",
     "output_type": "stream",
     "text": [
      "['Mike Jones', 'Obama', 'Jenny']\n"
     ]
    }
   ],
   "source": [
    "phonebook['Obama'] = \"202-456-1414\"\n",
    "print phonebook.keys()"
   ]
  },
  {
   "cell_type": "code",
   "execution_count": 181,
   "metadata": {
    "collapsed": false
   },
   "outputs": [
    {
     "name": "stdout",
     "output_type": "stream",
     "text": [
      " Mike Jones 281-330-8004\n",
      "Obama 202-456-1414\n",
      "Jenny 867-5309\n"
     ]
    }
   ],
   "source": [
    "for name in phonebook:\n",
    "    print name, phonebook[name]"
   ]
  },
  {
   "cell_type": "code",
   "execution_count": 183,
   "metadata": {
    "collapsed": false
   },
   "outputs": [],
   "source": [
    "contacts = {\"Jenny\": {\"cell\": \"555-0199\", \"home\": \"867-5309\"}, \"Mike Jones\": {\"home\": \"281-330-8004\"}, \"Destiny\": {\"work\": \"900-783-3369\"}}"
   ]
  },
  {
   "cell_type": "code",
   "execution_count": 189,
   "metadata": {
    "collapsed": false
   },
   "outputs": [
    {
     "name": "stdout",
     "output_type": "stream",
     "text": [
      "867-5309\n",
      "{'string2': 2, 'string3': 3.0, 'string1': 'value1'}\n"
     ]
    }
   ],
   "source": [
    "print contacts[\"Jenny\"][\"home\"]\n",
    "simple_dic = dict(string1=\"value1\",string2=2,string3=3.0)\n",
    "print simple_dic\n"
   ]
  },
  {
   "cell_type": "code",
   "execution_count": 190,
   "metadata": {
    "collapsed": true
   },
   "outputs": [],
   "source": [
    "birthdays = {}"
   ]
  },
  {
   "cell_type": "code",
   "execution_count": 191,
   "metadata": {
    "collapsed": true
   },
   "outputs": [],
   "source": [
    "birthdays[\"Luke Skywalker\"] = '5/24/19'\n",
    "birthdays[\"Obi-Wan Kenobi\"] = '3/11/57'\n",
    "birthdays[\"Darth Vader\"] = '4/1/41'"
   ]
  },
  {
   "cell_type": "code",
   "execution_count": 192,
   "metadata": {
    "collapsed": true
   },
   "outputs": [],
   "source": [
    "if 'Yoda' in birthdays:\n",
    "    print 'Yoda'\n",
    "else:\n",
    "    birthdays[\"Yoda\"] = \"unknown\""
   ]
  },
  {
   "cell_type": "code",
   "execution_count": 193,
   "metadata": {
    "collapsed": false
   },
   "outputs": [
    {
     "data": {
      "text/plain": [
       "{'Darth Vader': '4/1/41',\n",
       " 'Luke Skywalker': '5/24/19',\n",
       " 'Obi-Wan Kenobi': '3/11/57',\n",
       " 'Yoda': 'unknown'}"
      ]
     },
     "execution_count": 193,
     "metadata": {},
     "output_type": "execute_result"
    }
   ],
   "source": [
    "birthdays"
   ]
  },
  {
   "cell_type": "code",
   "execution_count": 194,
   "metadata": {
    "collapsed": false
   },
   "outputs": [
    {
     "name": "stdout",
     "output_type": "stream",
     "text": [
      "Luke Skywalker 5/24/19\n",
      "Obi-Wan Kenobi 3/11/57\n",
      "Yoda unknown\n",
      "Darth Vader 4/1/41\n"
     ]
    }
   ],
   "source": [
    "for i in birthdays:\n",
    "    print '{} {}'.format(i, birthdays[i])"
   ]
  },
  {
   "cell_type": "code",
   "execution_count": 195,
   "metadata": {
    "collapsed": true
   },
   "outputs": [],
   "source": [
    "del(birthdays['Darth Vader'])"
   ]
  },
  {
   "cell_type": "code",
   "execution_count": 196,
   "metadata": {
    "collapsed": false
   },
   "outputs": [
    {
     "data": {
      "text/plain": [
       "{'Luke Skywalker': '5/24/19', 'Obi-Wan Kenobi': '3/11/57', 'Yoda': 'unknown'}"
      ]
     },
     "execution_count": 196,
     "metadata": {},
     "output_type": "execute_result"
    }
   ],
   "source": [
    "birthdays"
   ]
  },
  {
   "cell_type": "code",
   "execution_count": 201,
   "metadata": {
    "collapsed": false
   },
   "outputs": [],
   "source": [
    "birthdays = dict([('Luke Skywalker','5/24/19'),('Obi-Wan Kenobi','3/11/57'),('Darth Vader','4/1/41')])"
   ]
  },
  {
   "cell_type": "code",
   "execution_count": 202,
   "metadata": {
    "collapsed": false
   },
   "outputs": [
    {
     "data": {
      "text/plain": [
       "{'Darth Vader': '4/1/41',\n",
       " 'Luke Skywalker': '5/24/19',\n",
       " 'Obi-Wan Kenobi': '3/11/57'}"
      ]
     },
     "execution_count": 202,
     "metadata": {},
     "output_type": "execute_result"
    }
   ],
   "source": [
    "birthdays"
   ]
  },
  {
   "cell_type": "code",
   "execution_count": 203,
   "metadata": {
    "collapsed": true
   },
   "outputs": [],
   "source": [
    "capitals_dict = {\n",
    "    'Alabama': 'Montgomery',\n",
    "    'Alaska': 'Juneau',\n",
    "    'Arizona': 'Phoenix',\n",
    "    'Arkansas': 'Little Rock',\n",
    "    'California': 'Sacramento',\n",
    "    'Colorado': 'Denver',\n",
    "    'Connecticut': 'Hartford',\n",
    "    'Delaware': 'Dover',\n",
    "    'Florida': 'Tallahassee',\n",
    "    'Georgia': 'Atlanta',\n",
    "    'Hawaii': 'Honolulu',\n",
    "    'Idaho': 'Boise',\n",
    "    'Illinois': 'Springfield',\n",
    "    'Indiana': 'Indianapolis',\n",
    "    'Iowa': 'Des Moines',\n",
    "    'Kansas': 'Topeka',\n",
    "    'Kentucky': 'Frankfort',\n",
    "    'Louisiana': 'Baton Rouge',\n",
    "    'Maine': 'Augusta',\n",
    "    'Maryland': 'Annapolis',\n",
    "    'Massachusetts': 'Boston',\n",
    "    'Michigan': 'Lansing',\n",
    "    'Minnesota': 'Saint Paul',\n",
    "    'Mississippi': 'Jackson',\n",
    "    'Missouri': 'Jefferson City',\n",
    "    'Montana': 'Helena',\n",
    "    'Nebraska': 'Lincoln',\n",
    "    'Nevada': 'Carson City',\n",
    "    'New Hampshire': 'Concord',\n",
    "    'New Jersey': 'Trenton',\n",
    "    'New Mexico': 'Santa Fe',\n",
    "    'New York': 'Albany',\n",
    "    'North Carolina': 'Raleigh',\n",
    "    'North Dakota': 'Bismarck',\n",
    "    'Ohio': 'Columbus',\n",
    "    'Oklahoma': 'Oklahoma City',\n",
    "    'Oregon': 'Salem',\n",
    "    'Pennsylvania': 'Harrisburg',\n",
    "    'Rhode Island': 'Providence',\n",
    "    'South Carolina': 'Columbia',\n",
    "    'South Dakota': 'Pierre',\n",
    "    'Tennessee': 'Nashville',\n",
    "    'Texas': 'Austin',\n",
    "    'Utah': 'Salt Lake City',\n",
    "    'Vermont': 'Montpelier',\n",
    "    'Virginia': 'Richmond',\n",
    "    'Washington': 'Olympia',\n",
    "    'West Virginia': 'Charleston',\n",
    "    'Wisconsin': 'Madison',\n",
    "    'Wyoming': 'Cheyenne',\n",
    "}"
   ]
  },
  {
   "cell_type": "code",
   "execution_count": 239,
   "metadata": {
    "collapsed": false
   },
   "outputs": [
    {
     "name": "stdout",
     "output_type": "stream",
     "text": [
      "What is the capital of 'Florida'? Tallahassee\n",
      "The capital of Florida is Tallahassee\n",
      "Nice Guess!!\n"
     ]
    }
   ],
   "source": [
    "state = random.choice(capitals_dict.keys())\n",
    "capital = capitals_dict[state]\n",
    "\n",
    "while True:\n",
    "    response = raw_input(\"What is the capital of '{}'? \".format(state)).lower()\n",
    "    if response == capital.lower():\n",
    "        print(\"The capital of {} is {}\".format(state, capital))\n",
    "        print (\"Nice Guess!!\") \n",
    "        break\n",
    "    elif response == \"exit\":\n",
    "        print \"Goodbye\"\n",
    "        break"
   ]
  },
  {
   "cell_type": "code",
   "execution_count": 268,
   "metadata": {
    "collapsed": false
   },
   "outputs": [
    {
     "data": {
      "text/plain": [
       "False"
      ]
     },
     "execution_count": 268,
     "metadata": {},
     "output_type": "execute_result"
    }
   ],
   "source": [
    "def hat(x):\n",
    "    if x == True:\n",
    "        x = False\n",
    "    else:\n",
    "        x = True\n",
    "    return x\n",
    "hat(True)"
   ]
  },
  {
   "cell_type": "code",
   "execution_count": 275,
   "metadata": {
    "collapsed": false
   },
   "outputs": [
    {
     "ename": "TypeError",
     "evalue": "list indices must be integers, not str",
     "output_type": "error",
     "traceback": [
      "\u001b[0;31m---------------------------------------------------------------------------\u001b[0m",
      "\u001b[0;31mTypeError\u001b[0m                                 Traceback (most recent call last)",
      "\u001b[0;32m<ipython-input-275-b10118c643ae>\u001b[0m in \u001b[0;36m<module>\u001b[0;34m()\u001b[0m\n\u001b[1;32m      4\u001b[0m     \u001b[0mrounds\u001b[0m \u001b[0;34m+=\u001b[0m \u001b[0;36m1\u001b[0m\u001b[0;34m\u001b[0m\u001b[0m\n\u001b[1;32m      5\u001b[0m     \u001b[0;32mif\u001b[0m \u001b[0mi\u001b[0m \u001b[0;34m%\u001b[0m \u001b[0mrounds\u001b[0m \u001b[0;34m==\u001b[0m \u001b[0;36m0\u001b[0m\u001b[0;34m:\u001b[0m\u001b[0;34m\u001b[0m\u001b[0m\n\u001b[0;32m----> 6\u001b[0;31m         \u001b[0mcats\u001b[0m\u001b[0;34m[\u001b[0m\u001b[0;34m\"hats\"\u001b[0m\u001b[0;34m]\u001b[0m \u001b[0;34m=\u001b[0m \u001b[0mTrue\u001b[0m\u001b[0;34m\u001b[0m\u001b[0m\n\u001b[0m\u001b[1;32m      7\u001b[0m     \u001b[0;32melse\u001b[0m\u001b[0;34m:\u001b[0m\u001b[0;34m\u001b[0m\u001b[0m\n\u001b[1;32m      8\u001b[0m         \u001b[0mcats\u001b[0m\u001b[0;34m[\u001b[0m\u001b[0;34m\"hats\"\u001b[0m\u001b[0;34m]\u001b[0m \u001b[0;34m=\u001b[0m \u001b[0mFalse\u001b[0m\u001b[0;34m\u001b[0m\u001b[0m\n",
      "\u001b[0;31mTypeError\u001b[0m: list indices must be integers, not str"
     ]
    }
   ],
   "source": [
    "\n",
    "    "
   ]
  },
  {
   "cell_type": "code",
   "execution_count": 284,
   "metadata": {
    "collapsed": false
   },
   "outputs": [
    {
     "name": "stdout",
     "output_type": "stream",
     "text": [
      "zero: True\n",
      "one: True\n",
      "two: True\n",
      "three: True\n",
      "four: True\n",
      "five: True\n",
      "five: True\n",
      "six: False\n",
      "seven: True\n"
     ]
    }
   ],
   "source": [
    "zero=0\n",
    "one=23\n",
    "two=[5,4,3,2,1]\n",
    "three = [\"I\", \"love\", \"Python!\"]\n",
    "four = [[\"P\", \"y\", \"t\", \"h\", \"o\", \"n\"],[\"i\", \"s\"],[\"h\", \"u\", \"r\",\n",
    "\"d\"]]\n",
    "five = {\"fish\":\"chips\", \"balls\":\"yes\", \"fun\":\"sure\"} \n",
    "six={1,2,3,4,5,6,7,8,9,10} \n",
    "days = (\"Fri\", \"Sat\", \"Sun\")\n",
    "seven = \"Wed\"\n",
    "\n",
    "\n",
    "print \"zero: {}\".format(zero == 0) \n",
    "print\"one: {}\".format(one>22)\n",
    "print\"two: {}\".format(len(two)==5)\n",
    "print \"three: {}\".format(three[2] == \"Python!\") \n",
    "print \"four: {}\".format(four[0][5] == 'n' and four[0][0] == \"P\" and four[2][1] == \"u\" )\n",
    "print \"five: {}\".format(five.get(\"fish\") == \"chips\") \n",
    "print \"five: {}\".format(len(five) == 3)\n",
    "print\"six: {}\".format(len(six&{2,5,7})==2) \n",
    "print \"seven: {}\".format(seven == \"Wed\")"
   ]
  },
  {
   "cell_type": "code",
   "execution_count": 304,
   "metadata": {
    "collapsed": false
   },
   "outputs": [
    {
     "name": "stdout",
     "output_type": "stream",
     "text": [
      "True\n",
      "True\n",
      "True\n",
      "True\n",
      "True\n",
      "True\n",
      "True\n",
      "True\n",
      "True\n"
     ]
    }
   ],
   "source": [
    "value = [2,2,2,1]\n",
    "\n",
    "if type(value) is list: \n",
    "    print True\n",
    "else:\n",
    "    print False\n",
    "    \n",
    "for x in value:\n",
    "    if not type(x) is int:\n",
    "        print False \n",
    "    else:\n",
    "        print True\n",
    "\n",
    "num=0\n",
    "while num < value[2]:\n",
    "    print True \n",
    "    num+=1\n",
    "\n",
    "for y in range(value[3]): \n",
    "        if y in value:\n",
    "            print False\n",
    "    \n",
    "try:\n",
    "    value[5] = \"Cat\"\n",
    "    while True: \n",
    "        print False\n",
    "except IndexError: \n",
    "        print True\n",
    "\n",
    "try:\n",
    "    assert value[3] == -1\n",
    "except AssertionError: \n",
    "    print True"
   ]
  },
  {
   "cell_type": "code",
   "execution_count": 300,
   "metadata": {
    "collapsed": false
   },
   "outputs": [
    {
     "data": {
      "text/plain": [
       "[0, 1, 2]"
      ]
     },
     "execution_count": 300,
     "metadata": {},
     "output_type": "execute_result"
    }
   ],
   "source": [
    "range(3)"
   ]
  },
  {
   "cell_type": "code",
   "execution_count": 308,
   "metadata": {
    "collapsed": true
   },
   "outputs": [],
   "source": [
    "my_output_file = open(\"hello.txt\", \"a\")\n",
    "lines = [\"\\nNon SEQUITUR\"]\n",
    "my_output_file.writelines(lines)\n",
    "my_output_file.close()"
   ]
  },
  {
   "cell_type": "code",
   "execution_count": 313,
   "metadata": {
    "collapsed": false
   },
   "outputs": [
    {
     "name": "stdout",
     "output_type": "stream",
     "text": [
      "This is my first file\n",
      " There are many like it,\n",
      "but this one is mine.\n",
      "Non SEQUITUR\n"
     ]
    }
   ],
   "source": [
    "my_input_file = open(\"hello.txt\",\"r\")\n",
    "for line in my_input_file.readlines():\n",
    "    print line,\n",
    "my_input_file.close()"
   ]
  },
  {
   "cell_type": "code",
   "execution_count": 315,
   "metadata": {
    "collapsed": false
   },
   "outputs": [
    {
     "name": "stdout",
     "output_type": "stream",
     "text": [
      "This is my first file\n",
      " There are many like it,\n",
      "but this one is mine.\n",
      "Non SEQUITUR\n"
     ]
    }
   ],
   "source": [
    "with open(\"hello.txt\", \"r\") as my_input_file:\n",
    "    for line in my_input_file.readlines():\n",
    "        print line,"
   ]
  },
  {
   "cell_type": "code",
   "execution_count": 318,
   "metadata": {
    "collapsed": false
   },
   "outputs": [
    {
     "name": "stdout",
     "output_type": "stream",
     "text": [
      "Charlie Bucket got: golden ticket, chocolate factory\n",
      "Veruca Salt got: squirrel revolution\n",
      "Violet Beauregarde got: fruit chew\n"
     ]
    }
   ],
   "source": [
    "import csv\n",
    "import os\n",
    "\n",
    "with open(\"wonka.csv\", \"rb\") as my_file:\n",
    "    my_file_reader = csv.reader(my_file)\n",
    "    next(my_file_reader)\n",
    "    for first_name, last_name, reward in my_file_reader:\n",
    "        print \"{} {} got: {}\".format(first_name, last_name, reward)"
   ]
  },
  {
   "cell_type": "code",
   "execution_count": 319,
   "metadata": {
    "collapsed": false
   },
   "outputs": [
    {
     "data": {
      "text/plain": [
       "'/Users/sheldon/Documents/real_python'"
      ]
     },
     "execution_count": 319,
     "metadata": {},
     "output_type": "execute_result"
    }
   ],
   "source": [
    "os.getcwd()"
   ]
  },
  {
   "cell_type": "code",
   "execution_count": 322,
   "metadata": {
    "collapsed": false
   },
   "outputs": [
    {
     "ename": "IOError",
     "evalue": "[Errno 2] No such file or directory: '/Users/sheldon/Documents/real_python/Real Python/book1-exercises/Course materials/Chapter 10/Practice files/Output/movies.csv'",
     "output_type": "error",
     "traceback": [
      "\u001b[0;31m---------------------------------------------------------------------------\u001b[0m",
      "\u001b[0;31mIOError\u001b[0m                                   Traceback (most recent call last)",
      "\u001b[0;32m<ipython-input-322-79c4793c31ec>\u001b[0m in \u001b[0;36m<module>\u001b[0;34m()\u001b[0m\n\u001b[1;32m      1\u001b[0m \u001b[0mmy_path\u001b[0m \u001b[0;34m=\u001b[0m \u001b[0;34m'/Users/sheldon/Documents/real_python/Real Python/book1-exercises/Course materials/Chapter 10/Practice files/Output'\u001b[0m\u001b[0;34m\u001b[0m\u001b[0m\n\u001b[0;32m----> 2\u001b[0;31m \u001b[0;32mwith\u001b[0m \u001b[0mopen\u001b[0m\u001b[0;34m(\u001b[0m\u001b[0mos\u001b[0m\u001b[0;34m.\u001b[0m\u001b[0mpath\u001b[0m\u001b[0;34m.\u001b[0m\u001b[0mjoin\u001b[0m\u001b[0;34m(\u001b[0m\u001b[0mmy_path\u001b[0m\u001b[0;34m,\u001b[0m \u001b[0;34m\"movies.csv\"\u001b[0m\u001b[0;34m)\u001b[0m\u001b[0;34m,\u001b[0m \u001b[0;34m\"wb\"\u001b[0m\u001b[0;34m)\u001b[0m \u001b[0;32mas\u001b[0m \u001b[0mmy_file\u001b[0m\u001b[0;34m:\u001b[0m\u001b[0;34m\u001b[0m\u001b[0m\n\u001b[0m\u001b[1;32m      3\u001b[0m     \u001b[0mmy_file_writer\u001b[0m \u001b[0;34m=\u001b[0m \u001b[0mcsv\u001b[0m\u001b[0;34m.\u001b[0m\u001b[0mwriter\u001b[0m\u001b[0;34m(\u001b[0m\u001b[0mmy_file\u001b[0m\u001b[0;34m)\u001b[0m\u001b[0;34m\u001b[0m\u001b[0m\n\u001b[1;32m      4\u001b[0m     \u001b[0mmy_file_writer\u001b[0m\u001b[0;34m.\u001b[0m\u001b[0mwriterow\u001b[0m\u001b[0;34m(\u001b[0m\u001b[0;34m[\u001b[0m\u001b[0;34m\"Movie\"\u001b[0m\u001b[0;34m,\u001b[0m\u001b[0;34m\"Rating\"\u001b[0m\u001b[0;34m]\u001b[0m\u001b[0;34m)\u001b[0m\u001b[0;34m\u001b[0m\u001b[0m\n\u001b[1;32m      5\u001b[0m     \u001b[0mmy_file_writer\u001b[0m\u001b[0;34m.\u001b[0m\u001b[0mwriterow\u001b[0m\u001b[0;34m(\u001b[0m\u001b[0;34m[\u001b[0m\u001b[0;34m\"Rebel Without a Cause\"\u001b[0m\u001b[0;34m,\u001b[0m \u001b[0;34m\"3\"\u001b[0m\u001b[0;34m]\u001b[0m\u001b[0;34m)\u001b[0m\u001b[0;34m\u001b[0m\u001b[0m\n",
      "\u001b[0;31mIOError\u001b[0m: [Errno 2] No such file or directory: '/Users/sheldon/Documents/real_python/Real Python/book1-exercises/Course materials/Chapter 10/Practice files/Output/movies.csv'"
     ]
    }
   ],
   "source": [
    "my_path = '/Users/sheldon/Documents/real_python/Real Python/book1-exercises/Course materials/Chapter 10/Practice files/Output'\n",
    "with open(os.path.join(my_path, \"movies.csv\"), \"wb\") as my_file:\n",
    "    my_file_writer = csv.writer(my_file)\n",
    "    my_file_writer.writerow([\"Movie\",\"Rating\"])\n",
    "    my_file_writer.writerow([\"Rebel Without a Cause\", \"3\"])\n",
    "    my_file.writer.writerow([\"Monty Python's Life of Brian\", \"5\"])\n",
    "    my_file_writer.writerow([\"Santa Claus Conquers the Martians\", 0])\n",
    "    "
   ]
  },
  {
   "cell_type": "code",
   "execution_count": 1,
   "metadata": {
    "collapsed": false
   },
   "outputs": [
    {
     "ename": "NameError",
     "evalue": "name 'PdFileReader' is not defined",
     "output_type": "error",
     "traceback": [
      "\u001b[0;31m---------------------------------------------------------------------------\u001b[0m",
      "\u001b[0;31mNameError\u001b[0m                                 Traceback (most recent call last)",
      "\u001b[0;32m<ipython-input-1-6c22b1989b0b>\u001b[0m in \u001b[0;36m<module>\u001b[0;34m()\u001b[0m\n\u001b[1;32m      5\u001b[0m \u001b[0;34m\u001b[0m\u001b[0m\n\u001b[1;32m      6\u001b[0m \u001b[0minput_file_name\u001b[0m \u001b[0;34m=\u001b[0m \u001b[0mos\u001b[0m\u001b[0;34m.\u001b[0m\u001b[0mpath\u001b[0m\u001b[0;34m.\u001b[0m\u001b[0mjoin\u001b[0m\u001b[0;34m(\u001b[0m\u001b[0mpath\u001b[0m\u001b[0;34m,\u001b[0m \u001b[0;34m\"Pride and Prejudice.pdf\"\u001b[0m\u001b[0;34m)\u001b[0m\u001b[0;34m\u001b[0m\u001b[0m\n\u001b[0;32m----> 7\u001b[0;31m \u001b[0minput_file\u001b[0m \u001b[0;34m=\u001b[0m \u001b[0mPdFileReader\u001b[0m\u001b[0;34m(\u001b[0m\u001b[0mfile\u001b[0m\u001b[0;34m(\u001b[0m\u001b[0minput_file_name\u001b[0m\u001b[0;34m)\u001b[0m\u001b[0;34m,\u001b[0m \u001b[0;34m\"rb\"\u001b[0m\u001b[0;34m)\u001b[0m\u001b[0;34m\u001b[0m\u001b[0m\n\u001b[0m\u001b[1;32m      8\u001b[0m \u001b[0;34m\u001b[0m\u001b[0m\n\u001b[1;32m      9\u001b[0m \u001b[0;32mprint\u001b[0m \u001b[0;34m\"Number of pages:\"\u001b[0m\u001b[0;34m,\u001b[0m \u001b[0minput_file\u001b[0m\u001b[0;34m.\u001b[0m\u001b[0mgetNumPages\u001b[0m\u001b[0;34m(\u001b[0m\u001b[0;34m)\u001b[0m\u001b[0;34m\u001b[0m\u001b[0m\n",
      "\u001b[0;31mNameError\u001b[0m: name 'PdFileReader' is not defined"
     ]
    }
   ],
   "source": [
    "import os\n",
    "from pyPdf import PdfFileReader\n",
    "\n",
    "path = \"/Users/sheldon/Documents/real_python/book1-exercises/Course materials/Chapter 12/Practice files\"\n",
    "\n",
    "input_file_name = os.path.join(path, \"Pride and Prejudice.pdf\")\n",
    "input_file = PdFileReader(file(input_file_name), \"rb\")\n",
    "\n",
    "print \"Number of pages:\", input_file.getNumPages()\n",
    "print \"Title:\", input_file.getDocumentInfo().title"
   ]
  },
  {
   "cell_type": "code",
   "execution_count": 6,
   "metadata": {
    "collapsed": false
   },
   "outputs": [
    {
     "name": "stdout",
     "output_type": "stream",
     "text": [
      "Number of pages: 234\n",
      "Title: Pride and Prejudice, by Jane Austen\n"
     ]
    }
   ],
   "source": [
    "import os\n",
    "from pyPdf import PdfFileReader\n",
    "\n",
    "path = \"/Users/sheldon/Documents/real_python/book1-exercises/Course materials/Chapter 12/Practice files\"\n",
    "\n",
    "input_file_name = os.path.join(path, \"Pride and Prejudice.pdf\")\n",
    "input_file = PdfFileReader(file(input_file_name, \"rb\"))\n",
    "print \"Number of pages:\", input_file.getNumPages() \n",
    "print \"Title:\", input_file.getDocumentInfo().title\n",
    "\n",
    "#for more info on pdf see page 147"
   ]
  },
  {
   "cell_type": "code",
   "execution_count": 12,
   "metadata": {
    "collapsed": false
   },
   "outputs": [],
   "source": [
    "import sqlite3 as sql\n",
    "\n",
    "connection = sql.connect(\"test_database.db\")\n",
    "c = connection.cursor()\n",
    "c.execute(\"INSERT INTO People VALUES('Ron', 'Obvious', 42)\")\n",
    "connection.commit()"
   ]
  },
  {
   "cell_type": "code",
   "execution_count": 17,
   "metadata": {
    "collapsed": false
   },
   "outputs": [
    {
     "name": "stdout",
     "output_type": "stream",
     "text": [
      "<html>\n",
      "<head>\n",
      "<title >Profile: Poseidon</title>\n",
      "</head>\n",
      "<body bgcolor=\"yellow\">\n",
      "<center>\n",
      "<br><br>\n",
      "<img src=\"poseidon.jpg\" />\n",
      "<h2>Name: Poseidon</h2>\n",
      "<br><br>\n",
      "Favorite animal: Dolphin\n",
      "<br><br>\n",
      "Favorite color: Blue\n",
      "<br><br>\n",
      "Hometown: Sea\n",
      "</center>\n",
      "</body>\n",
      "</html>\n"
     ]
    }
   ],
   "source": [
    "from urllib2 import urlopen\n",
    "my_address = \"https://realpython.com/practice/poseidon.html\"\n",
    "html_page = urlopen(my_address)\n",
    "html_text = html_page.read()\n",
    "print html_text"
   ]
  },
  {
   "cell_type": "code",
   "execution_count": 18,
   "metadata": {
    "collapsed": false
   },
   "outputs": [
    {
     "name": "stdout",
     "output_type": "stream",
     "text": [
      "\n",
      "<head>\n",
      "<title >Profile: Poseidon\n"
     ]
    }
   ],
   "source": [
    "start = \"<title>\"\n",
    "end = \"</title>\"\n",
    "s_index = html_text.find(start) + len(start)\n",
    "end_index = html_text.find(end)\n",
    "print html_text[s_index:end_index]"
   ]
  },
  {
   "cell_type": "code",
   "execution_count": 22,
   "metadata": {
    "collapsed": false
   },
   "outputs": [
    {
     "name": "stdout",
     "output_type": "stream",
     "text": [
      "\n",
      "\n",
      "Profile: Dionysus\n",
      "\n",
      "\n",
      "\n",
      "\n",
      "\n",
      "Name: Dionysus\n",
      "\n",
      "Hometown: Mount Olympus\n",
      "\n",
      "Favorite animal: Leopard \n",
      "\n",
      "Favorite Color: Wine\n",
      "\n",
      "\n",
      "\n"
     ]
    }
   ],
   "source": [
    "from bs4 import BeautifulSoup\n",
    "my_address = \"https://realpython.com/practice/dionysus.html\"\n",
    "\n",
    "html_page = urlopen(my_address)\n",
    "html_text = html_page.read()\n",
    "\n",
    "my_soup = BeautifulSoup(html_text)\n",
    "print my_soup.get_text()"
   ]
  },
  {
   "cell_type": "code",
   "execution_count": 23,
   "metadata": {
    "collapsed": false
   },
   "outputs": [
    {
     "name": "stdout",
     "output_type": "stream",
     "text": [
      "[<img src=\"dionysus.jpg\"/>, <img src=\"grapes.png\"/>]\n"
     ]
    }
   ],
   "source": [
    "print my_soup.find_all(\"img\")"
   ]
  },
  {
   "cell_type": "code",
   "execution_count": 24,
   "metadata": {
    "collapsed": false
   },
   "outputs": [
    {
     "name": "stdout",
     "output_type": "stream",
     "text": [
      "<html>\n",
      "<head>\n",
      "<title>All Profiles</title>\n",
      "</head>\n",
      "<body bgcolor=\"yellow\">\n",
      "<center>\n",
      "<br/><br/>\n",
      "<h1>All Profiles:</h1>\n",
      "<br/><br/>\n",
      "<h2>\n",
      "<a href=\"aphrodite.html\">Aphrodite</a>\n",
      "<br/><br/>\n",
      "<a href=\"poseidon.html\">Poseidon</a>\n",
      "<br/><br/>\n",
      "<a href=\"dionysus.html\">Dionysus</a>\n",
      "</h2>\n",
      "</center>\n",
      "</body>\n",
      "</html>\n"
     ]
    }
   ],
   "source": [
    "address = \"https://www.realpython.com/practice/profiles.html\"\n",
    "html_page = urlopen(address)\n",
    "html_text = html_page.read()\n",
    "my_soup = BeautifulSoup(html_text)\n",
    "print my_soup"
   ]
  },
  {
   "cell_type": "code",
   "execution_count": 28,
   "metadata": {
    "collapsed": false
   },
   "outputs": [
    {
     "data": {
      "text/plain": [
       "<a href=\"poseidon.html\">Poseidon</a>"
      ]
     },
     "execution_count": 28,
     "metadata": {},
     "output_type": "execute_result"
    }
   ],
   "source": [
    "x = my_soup.find_all(\"a\")\n",
    "x[1]"
   ]
  },
  {
   "cell_type": "code",
   "execution_count": null,
   "metadata": {
    "collapsed": true
   },
   "outputs": [],
   "source": []
  }
 ],
 "metadata": {
  "kernelspec": {
   "display_name": "Python 2",
   "language": "python",
   "name": "python2"
  },
  "language_info": {
   "codemirror_mode": {
    "name": "ipython",
    "version": 2
   },
   "file_extension": ".py",
   "mimetype": "text/x-python",
   "name": "python",
   "nbconvert_exporter": "python",
   "pygments_lexer": "ipython2",
   "version": "2.7.8"
  }
 },
 "nbformat": 4,
 "nbformat_minor": 0
}
